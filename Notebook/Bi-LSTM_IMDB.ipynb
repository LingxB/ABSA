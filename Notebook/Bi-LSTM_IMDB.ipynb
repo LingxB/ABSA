{
 "cells": [
  {
   "cell_type": "code",
   "execution_count": 1,
   "metadata": {},
   "outputs": [
    {
     "name": "stderr",
     "output_type": "stream",
     "text": [
      "Using TensorFlow backend.\n"
     ]
    }
   ],
   "source": [
    "from keras.preprocessing import sequence\n",
    "from keras.models import Sequential\n",
    "from keras.layers import Dense, Embedding\n",
    "from keras.layers import LSTM, Bidirectional\n",
    "from keras.datasets import imdb"
   ]
  },
  {
   "cell_type": "code",
   "execution_count": 2,
   "metadata": {
    "collapsed": true
   },
   "outputs": [],
   "source": [
    "max_features = 20000 # top most frequent words to consider.\n",
    "maxlen = 80  # cut texts after this number of words (among top max_features most common words)\n",
    "batch_size = 32"
   ]
  },
  {
   "cell_type": "code",
   "execution_count": 3,
   "metadata": {
    "scrolled": true
   },
   "outputs": [
    {
     "name": "stdout",
     "output_type": "stream",
     "text": [
      "Loading data...\n",
      "25000 train sequences\n",
      "25000 test sequences\n"
     ]
    }
   ],
   "source": [
    "print('Loading data...')\n",
    "(x_train, y_train), (x_test, y_test) = imdb.load_data(num_words=max_features)\n",
    "print(len(x_train), 'train sequences')\n",
    "print(len(x_test), 'test sequences')"
   ]
  },
  {
   "cell_type": "code",
   "execution_count": 4,
   "metadata": {},
   "outputs": [
    {
     "data": {
      "text/plain": [
       "(25000,)"
      ]
     },
     "execution_count": 4,
     "metadata": {},
     "output_type": "execute_result"
    }
   ],
   "source": [
    "x_train.shape"
   ]
  },
  {
   "cell_type": "code",
   "execution_count": 5,
   "metadata": {},
   "outputs": [],
   "source": [
    "w_index = imdb.get_word_index()"
   ]
  },
  {
   "cell_type": "code",
   "execution_count": 6,
   "metadata": {},
   "outputs": [
    {
     "data": {
      "text/plain": [
       "88584"
      ]
     },
     "execution_count": 6,
     "metadata": {},
     "output_type": "execute_result"
    }
   ],
   "source": [
    "len(w_index)"
   ]
  },
  {
   "cell_type": "code",
   "execution_count": 7,
   "metadata": {},
   "outputs": [
    {
     "data": {
      "text/plain": [
       "(25000,)"
      ]
     },
     "execution_count": 7,
     "metadata": {},
     "output_type": "execute_result"
    }
   ],
   "source": [
    "y_train.shape"
   ]
  },
  {
   "cell_type": "code",
   "execution_count": 8,
   "metadata": {},
   "outputs": [
    {
     "name": "stdout",
     "output_type": "stream",
     "text": [
      "Pad sequences (samples x time)\n",
      "x_train shape: (25000, 80)\n",
      "x_test shape: (25000, 80)\n"
     ]
    }
   ],
   "source": [
    "print('Pad sequences (samples x time)')\n",
    "x_train = sequence.pad_sequences(x_train, maxlen=maxlen)\n",
    "x_test = sequence.pad_sequences(x_test, maxlen=maxlen)\n",
    "print('x_train shape:', x_train.shape)\n",
    "print('x_test shape:', x_test.shape)"
   ]
  },
  {
   "cell_type": "code",
   "execution_count": 9,
   "metadata": {
    "collapsed": true
   },
   "outputs": [],
   "source": [
    "model = Sequential()\n",
    "model.add(Embedding(max_features, 128))\n",
    "model.add(Bidirectional(LSTM(64, dropout=0.2, recurrent_dropout=0.2)))\n",
    "#model.add(LSTM(128, dropout=0.2, recurrent_dropout=0.2))\n",
    "model.add(Dense(1, activation='sigmoid'))"
   ]
  },
  {
   "cell_type": "code",
   "execution_count": 10,
   "metadata": {},
   "outputs": [],
   "source": [
    "model.compile(loss='binary_crossentropy',\n",
    "              optimizer='adam',\n",
    "              metrics=['accuracy'])"
   ]
  },
  {
   "cell_type": "code",
   "execution_count": 11,
   "metadata": {},
   "outputs": [
    {
     "name": "stdout",
     "output_type": "stream",
     "text": [
      "Train on 25000 samples, validate on 25000 samples\n",
      "Epoch 1/15\n",
      "25000/25000 [==============================] - 725s - loss: 0.4326 - acc: 0.7971 - val_loss: 0.3723 - val_acc: 0.8341\n",
      "Epoch 2/15\n",
      "25000/25000 [==============================] - 734s - loss: 0.2595 - acc: 0.8976 - val_loss: 0.3624 - val_acc: 0.8426\n",
      "Epoch 3/15\n",
      "25000/25000 [==============================] - 718s - loss: 0.1652 - acc: 0.9376 - val_loss: 0.4261 - val_acc: 0.8271\n",
      "Epoch 4/15\n",
      "25000/25000 [==============================] - 709s - loss: 0.0932 - acc: 0.9667 - val_loss: 0.5368 - val_acc: 0.8214\n",
      "Epoch 5/15\n",
      "25000/25000 [==============================] - 699s - loss: 0.0521 - acc: 0.9832 - val_loss: 0.7041 - val_acc: 0.8195\n",
      "Epoch 6/15\n",
      "25000/25000 [==============================] - 696s - loss: 0.0324 - acc: 0.9894 - val_loss: 0.8070 - val_acc: 0.8164\n",
      "Epoch 7/15\n",
      "25000/25000 [==============================] - 695s - loss: 0.0238 - acc: 0.9920 - val_loss: 0.8885 - val_acc: 0.8088\n",
      "Epoch 8/15\n",
      "25000/25000 [==============================] - 694s - loss: 0.0195 - acc: 0.9935 - val_loss: 0.9362 - val_acc: 0.8098\n",
      "Epoch 9/15\n",
      "25000/25000 [==============================] - 691s - loss: 0.0155 - acc: 0.9947 - val_loss: 0.9612 - val_acc: 0.8166\n",
      "Epoch 10/15\n",
      "25000/25000 [==============================] - 689s - loss: 0.0131 - acc: 0.9963 - val_loss: 0.9889 - val_acc: 0.8162\n",
      "Epoch 11/15\n",
      "25000/25000 [==============================] - 685s - loss: 0.0107 - acc: 0.9963 - val_loss: 1.1585 - val_acc: 0.8176\n",
      "Epoch 12/15\n",
      "25000/25000 [==============================] - 681s - loss: 0.0108 - acc: 0.9964 - val_loss: 1.1344 - val_acc: 0.8110\n",
      "Epoch 13/15\n",
      "25000/25000 [==============================] - 686s - loss: 0.0084 - acc: 0.9976 - val_loss: 1.1128 - val_acc: 0.8132\n",
      "Epoch 14/15\n",
      "25000/25000 [==============================] - 680s - loss: 0.0039 - acc: 0.9988 - val_loss: 1.2052 - val_acc: 0.8125\n",
      "Epoch 15/15\n",
      "25000/25000 [==============================] - 679s - loss: 0.0069 - acc: 0.9978 - val_loss: 1.2031 - val_acc: 0.8099\n",
      "25000/25000 [==============================] - 155s   \n",
      "Test loss: 1.20306331465\n",
      "Test accuracy: 0.80992\n",
      "Wall time: 2h 57min 12s\n"
     ]
    }
   ],
   "source": [
    "%%time\n",
    "model.fit(x_train, y_train,\n",
    "          batch_size=batch_size,\n",
    "          epochs=15,\n",
    "          validation_data=(x_test, y_test))\n",
    "loss, acc = model.evaluate(x_test, y_test,\n",
    "                            batch_size=batch_size)\n",
    "print('Test loss:', loss)\n",
    "print('Test accuracy:', acc)"
   ]
  },
  {
   "cell_type": "code",
   "execution_count": null,
   "metadata": {
    "collapsed": true
   },
   "outputs": [],
   "source": []
  }
 ],
 "metadata": {
  "kernelspec": {
   "display_name": "Python 3",
   "language": "python",
   "name": "python3"
  },
  "language_info": {
   "codemirror_mode": {
    "name": "ipython",
    "version": 3
   },
   "file_extension": ".py",
   "mimetype": "text/x-python",
   "name": "python",
   "nbconvert_exporter": "python",
   "pygments_lexer": "ipython3",
   "version": "3.5.2"
  }
 },
 "nbformat": 4,
 "nbformat_minor": 1
}
