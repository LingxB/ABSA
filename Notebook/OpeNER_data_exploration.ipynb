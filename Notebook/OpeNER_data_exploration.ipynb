{
 "cells": [
  {
   "cell_type": "code",
   "execution_count": 82,
   "metadata": {
    "collapsed": true
   },
   "outputs": [],
   "source": [
    "from os import walk\n",
    "import xml.etree.ElementTree as ET"
   ]
  },
  {
   "cell_type": "code",
   "execution_count": 90,
   "metadata": {},
   "outputs": [],
   "source": [
    "path = 'F:\\PhD\\ABSA\\Data\\OpeNER\\opinion_annotations_en\\kaf\\hotel'\n",
    "files = [filename for (dirpath, dirnames, filename) in walk(path)]"
   ]
  },
  {
   "cell_type": "code",
   "execution_count": 2,
   "metadata": {
    "collapsed": true
   },
   "outputs": [],
   "source": [
    "file = 'F:\\PhD\\ABSA\\Data\\OpeNER\\opinion_annotations_en\\kaf\\hotel\\english00001_039d4b7b17acc9ef4243f32de0e3c70e.kaf'"
   ]
  },
  {
   "cell_type": "code",
   "execution_count": 3,
   "metadata": {
    "collapsed": true
   },
   "outputs": [],
   "source": [
    "def get_root(file):\n",
    "    root = ET.parse(file).getroot()\n",
    "    return root"
   ]
  },
  {
   "cell_type": "code",
   "execution_count": 4,
   "metadata": {
    "collapsed": true
   },
   "outputs": [],
   "source": [
    "root = get_root(file)"
   ]
  },
  {
   "cell_type": "code",
   "execution_count": 5,
   "metadata": {},
   "outputs": [],
   "source": [
    "def get_text(root):\n",
    "    text = [e.text for c in root.getchildren() for e in c.findall('wf') if c.tag == 'text']\n",
    "    return text"
   ]
  },
  {
   "cell_type": "code",
   "execution_count": 100,
   "metadata": {
    "collapsed": true
   },
   "outputs": [],
   "source": [
    "text = get_text(root)"
   ]
  },
  {
   "cell_type": "code",
   "execution_count": 101,
   "metadata": {},
   "outputs": [
    {
     "data": {
      "text/plain": [
       "'Comments on my stay at Club Hotel Dolphin Room service needs to be improved and we experienced that some of the Linen provided are damaged . Condition of the room is very poor and also it was not cleaned properly . Attending for issues are ok .'"
      ]
     },
     "execution_count": 101,
     "metadata": {},
     "output_type": "execute_result"
    }
   ],
   "source": [
    "' '.join(text)"
   ]
  },
  {
   "cell_type": "code",
   "execution_count": 35,
   "metadata": {},
   "outputs": [],
   "source": [
    "def get_term(root):\n",
    "    \"\"\"return map between tid and wid\"\"\"\n",
    "    terms = [e for c in root.getchildren() for e in c.findall('term') if c.tag == 'terms']\n",
    "    tw_map = {x.findall('span')[0].findall('target')[0].attrib['id']: x.attrib['tid'] for x in terms}\n",
    "    return tw_map"
   ]
  },
  {
   "cell_type": "code",
   "execution_count": 36,
   "metadata": {},
   "outputs": [],
   "source": [
    "tw_map = get_term(root)    "
   ]
  },
  {
   "cell_type": "code",
   "execution_count": 93,
   "metadata": {
    "collapsed": true
   },
   "outputs": [],
   "source": [
    "def get_opinions(root):\n",
    "    \"\"\"Return target, expression, polarity\"\"\"\n",
    "    opinions = [e for c in root.getchildren() for e in c.findall('opinion') if c.tag == 'opinions']\n",
    "    triples = []\n",
    "    for opinion in opinions:\n",
    "        targets = [o.findall('span')[0].findall('target') for o in opinion.getchildren() if o.tag == 'opinion_target'][0]\n",
    "        t_id = [t.attrib['id'] for t in targets]\n",
    "        exps = [e.findall('span')[0].findall('target') for e in opinion.getchildren() if e.tag == 'opinion_expression'][0]\n",
    "        e_id = [e.attrib['id'] for e in exps]\n",
    "        polarity = [e.attrib['polarity'] for e in opinion.getchildren() if e.tag == 'opinion_expression'][0]\n",
    "        triples.append((t_id,e_id,polarity))\n",
    "    return triples"
   ]
  },
  {
   "cell_type": "code",
   "execution_count": 96,
   "metadata": {},
   "outputs": [
    {
     "data": {
      "text/plain": [
       "[(['t27', 't28', 't29', 't30'], ['t32', 't33'], 'StrongNegative'),\n",
       " (['t27', 't28', 't29', 't30'], ['t37', 't38', 't39', 't40'], 'Negative'),\n",
       " (['t42', 't43', 't44'], ['t46'], 'Positive'),\n",
       " (['t9', 't10'], ['t11', 't12', 't13', 't14'], 'Negative'),\n",
       " (['t19', 't20', 't21', 't22'], ['t25'], 'Negative')]"
      ]
     },
     "execution_count": 96,
     "metadata": {},
     "output_type": "execute_result"
    }
   ],
   "source": [
    "opinions = get_opinions(root)\n",
    "opinions"
   ]
  },
  {
   "cell_type": "code",
   "execution_count": 112,
   "metadata": {
    "collapsed": true
   },
   "outputs": [],
   "source": [
    "def id2words(opinions, root):\n",
    "    text = get_text(root)\n",
    "    w_opins = []\n",
    "    for o in opinions:\n",
    "        target = [w for w in map(lambda x: text[int(x.split('t')[-1])-1],o[0])]\n",
    "        exp = [w for w in map(lambda x: text[int(x.split('t')[-1])-1],o[1])]\n",
    "        polarity = o[2]\n",
    "        w_opins.append([' '.join(target),' '.join(exp),polarity])\n",
    "    return w_opins"
   ]
  },
  {
   "cell_type": "code",
   "execution_count": 113,
   "metadata": {},
   "outputs": [
    {
     "data": {
      "text/plain": [
       "[['Condition of the room', 'very poor', 'StrongNegative'],\n",
       " ['Condition of the room', 'was not cleaned properly', 'Negative'],\n",
       " ['Attending for issues', 'ok', 'Positive'],\n",
       " ['Room service', 'needs to be improved', 'Negative'],\n",
       " ['some of the Linen', 'damaged', 'Negative']]"
      ]
     },
     "execution_count": 113,
     "metadata": {},
     "output_type": "execute_result"
    }
   ],
   "source": [
    "id2words(opinions, root)"
   ]
  },
  {
   "cell_type": "code",
   "execution_count": null,
   "metadata": {
    "collapsed": true
   },
   "outputs": [],
   "source": []
  },
  {
   "cell_type": "code",
   "execution_count": null,
   "metadata": {
    "collapsed": true
   },
   "outputs": [],
   "source": []
  },
  {
   "cell_type": "code",
   "execution_count": null,
   "metadata": {
    "collapsed": true
   },
   "outputs": [],
   "source": []
  },
  {
   "cell_type": "code",
   "execution_count": null,
   "metadata": {
    "collapsed": true
   },
   "outputs": [],
   "source": []
  },
  {
   "cell_type": "code",
   "execution_count": null,
   "metadata": {
    "collapsed": true
   },
   "outputs": [],
   "source": []
  }
 ],
 "metadata": {
  "kernelspec": {
   "display_name": "Python 3",
   "language": "python",
   "name": "python3"
  },
  "language_info": {
   "codemirror_mode": {
    "name": "ipython",
    "version": 3
   },
   "file_extension": ".py",
   "mimetype": "text/x-python",
   "name": "python",
   "nbconvert_exporter": "python",
   "pygments_lexer": "ipython3",
   "version": "3.5.2"
  }
 },
 "nbformat": 4,
 "nbformat_minor": 2
}
