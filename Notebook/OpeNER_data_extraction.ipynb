{
 "cells": [
  {
   "cell_type": "code",
   "execution_count": 1,
   "metadata": {
    "collapsed": true
   },
   "outputs": [],
   "source": [
    "from os import walk\n",
    "import xml.etree.ElementTree as ET\n",
    "import pandas as pd\n",
    "import numpy as np"
   ]
  },
  {
   "cell_type": "code",
   "execution_count": 2,
   "metadata": {
    "collapsed": false
   },
   "outputs": [],
   "source": [
    "path = 'S:\\ebao\\ABSA\\Data\\OpeNER\\opinion_annotations_en\\kaf\\hotel/'\n",
    "files = [filename for (dirpath, dirnames, filename) in walk(path)][0]"
   ]
  },
  {
   "cell_type": "code",
   "execution_count": 3,
   "metadata": {
    "collapsed": true
   },
   "outputs": [],
   "source": [
    "def get_root(file):\n",
    "    root = ET.parse(file).getroot()\n",
    "    return root"
   ]
  },
  {
   "cell_type": "code",
   "execution_count": 4,
   "metadata": {
    "collapsed": true
   },
   "outputs": [],
   "source": [
    "def get_text(root):\n",
    "    text = [e.text for c in root.getchildren() for e in c.findall('wf') if c.tag == 'text']\n",
    "    return text"
   ]
  },
  {
   "cell_type": "code",
   "execution_count": 5,
   "metadata": {
    "collapsed": true
   },
   "outputs": [],
   "source": [
    "def get_term(root):\n",
    "    \"\"\"return map between tid and wid\"\"\"\n",
    "    terms = [e for c in root.getchildren() for e in c.findall('term') if c.tag == 'terms']\n",
    "    tw_map = {x.findall('span')[0].findall('target')[0].attrib['id']: x.attrib['tid'] for x in terms}\n",
    "    return tw_map"
   ]
  },
  {
   "cell_type": "code",
   "execution_count": 6,
   "metadata": {
    "collapsed": true
   },
   "outputs": [],
   "source": [
    "def get_opinions(root):\n",
    "    \"\"\"Return target, expression, polarity\"\"\"\n",
    "    opinions = [e for c in root.getchildren() for e in c.findall('opinion') if c.tag == 'opinions']\n",
    "    triples = []\n",
    "    for opinion in opinions:\n",
    "        try:\n",
    "            targets = [o.findall('span')[0].findall('target') for o in opinion.getchildren() if o.tag == 'opinion_target'][0]\n",
    "            t_id = [t.attrib['id'] for t in targets]\n",
    "        except IndexError:\n",
    "            t_id = [None]\n",
    "        exps = [e.findall('span')[0].findall('target') for e in opinion.getchildren() if e.tag == 'opinion_expression'][0]\n",
    "        e_id = [e.attrib['id'] for e in exps]\n",
    "        polarity = [e.attrib['polarity'] for e in opinion.getchildren() if e.tag == 'opinion_expression'][0]\n",
    "        triples.append((t_id,e_id,polarity))\n",
    "    return triples"
   ]
  },
  {
   "cell_type": "code",
   "execution_count": 7,
   "metadata": {
    "collapsed": false
   },
   "outputs": [],
   "source": [
    "def id2words(opinions, root):\n",
    "    text = get_text(root)\n",
    "    w_opins = []\n",
    "    for o in opinions:\n",
    "        target = [w for w in map(lambda x: text[int(x.split('t')[-1])-1] if x else None,o[0])]\n",
    "        exp = [w for w in map(lambda x: text[int(x.split('t')[-1])-1],o[1])]\n",
    "        polarity = o[2]\n",
    "        if target[0]: \n",
    "            w_opins.append([' '.join(target),' '.join(exp),polarity])\n",
    "        else:\n",
    "            w_opins.append([None,' '.join(exp),polarity])\n",
    "    return np.array(w_opins)"
   ]
  },
  {
   "cell_type": "code",
   "execution_count": 8,
   "metadata": {
    "collapsed": true
   },
   "outputs": [],
   "source": [
    "def extract_data(file,colnames=['TARGET','OTE','POLARITY']):\n",
    "    \n",
    "    print(file)\n",
    "    root = get_root(file)\n",
    "    opinions_id = get_opinions(root)\n",
    "    opinions = id2words(opinions_id,root)\n",
    "    df = pd.DataFrame(opinions, columns=colnames)\n",
    "    \n",
    "    return df"
   ]
  },
  {
   "cell_type": "code",
   "execution_count": 9,
   "metadata": {
    "collapsed": true
   },
   "outputs": [],
   "source": [
    "def iter_data(file,colnames=['TARGET','OTE','POLARITY']):\n",
    "    \n",
    "    #print(file)\n",
    "    root = get_root(file)\n",
    "    opinions_id = get_opinions(root)\n",
    "    if opinions_id:\n",
    "        opinions = id2words(opinions_id,root)\n",
    "        df = pd.DataFrame(opinions, columns=colnames)\n",
    "        yield df\n",
    "    else:\n",
    "        pass"
   ]
  },
  {
   "cell_type": "code",
   "execution_count": 10,
   "metadata": {
    "collapsed": false,
    "scrolled": false
   },
   "outputs": [],
   "source": [
    "df = pd.concat([df for file in files for df in iter_data(path+file) ], axis=0, ignore_index=True)"
   ]
  },
  {
   "cell_type": "code",
   "execution_count": 20,
   "metadata": {
    "collapsed": true
   },
   "outputs": [],
   "source": [
    "df.to_csv('S:\\ebao\\ABSA\\Data\\OpeNER\\OpeNER_TOP.csv', index=False, encoding='utf-8')"
   ]
  },
  {
   "cell_type": "code",
   "execution_count": 11,
   "metadata": {
    "collapsed": false
   },
   "outputs": [
    {
     "data": {
      "text/plain": [
       "(4150, 3)"
      ]
     },
     "execution_count": 11,
     "metadata": {},
     "output_type": "execute_result"
    }
   ],
   "source": [
    "df.shape"
   ]
  },
  {
   "cell_type": "code",
   "execution_count": 12,
   "metadata": {
    "collapsed": false,
    "scrolled": false
   },
   "outputs": [
    {
     "data": {
      "text/plain": [
       "(3850, 3)"
      ]
     },
     "execution_count": 12,
     "metadata": {},
     "output_type": "execute_result"
    }
   ],
   "source": [
    "df.dropna().shape"
   ]
  },
  {
   "cell_type": "code",
   "execution_count": 13,
   "metadata": {
    "collapsed": false,
    "scrolled": false
   },
   "outputs": [
    {
     "data": {
      "text/html": [
       "<div>\n",
       "<table border=\"1\" class=\"dataframe\">\n",
       "  <thead>\n",
       "    <tr style=\"text-align: right;\">\n",
       "      <th></th>\n",
       "      <th>TARGET</th>\n",
       "      <th>OTE</th>\n",
       "      <th>POLARITY</th>\n",
       "    </tr>\n",
       "  </thead>\n",
       "  <tbody>\n",
       "    <tr>\n",
       "      <th>33</th>\n",
       "      <td>None</td>\n",
       "      <td>Will definitely be retuning</td>\n",
       "      <td>StrongPositive</td>\n",
       "    </tr>\n",
       "    <tr>\n",
       "      <th>41</th>\n",
       "      <td>None</td>\n",
       "      <td>walking distance to Sol , Gran Via etc.</td>\n",
       "      <td>Positive</td>\n",
       "    </tr>\n",
       "    <tr>\n",
       "      <th>63</th>\n",
       "      <td>None</td>\n",
       "      <td>are satisfied</td>\n",
       "      <td>Positive</td>\n",
       "    </tr>\n",
       "    <tr>\n",
       "      <th>83</th>\n",
       "      <td>None</td>\n",
       "      <td>with a shopping center on the other side of th...</td>\n",
       "      <td>Positive</td>\n",
       "    </tr>\n",
       "    <tr>\n",
       "      <th>84</th>\n",
       "      <td>None</td>\n",
       "      <td>Close to the beach</td>\n",
       "      <td>Positive</td>\n",
       "    </tr>\n",
       "    <tr>\n",
       "      <th>85</th>\n",
       "      <td>None</td>\n",
       "      <td>Very good</td>\n",
       "      <td>StrongPositive</td>\n",
       "    </tr>\n",
       "    <tr>\n",
       "      <th>101</th>\n",
       "      <td>None</td>\n",
       "      <td>Practical</td>\n",
       "      <td>Positive</td>\n",
       "    </tr>\n",
       "    <tr>\n",
       "      <th>110</th>\n",
       "      <td>None</td>\n",
       "      <td>can easily find connections to every tourist a...</td>\n",
       "      <td>Positive</td>\n",
       "    </tr>\n",
       "    <tr>\n",
       "      <th>129</th>\n",
       "      <td>None</td>\n",
       "      <td>would love to go back</td>\n",
       "      <td>Positive</td>\n",
       "    </tr>\n",
       "    <tr>\n",
       "      <th>130</th>\n",
       "      <td>None</td>\n",
       "      <td>One of the best holidays</td>\n",
       "      <td>StrongPositive</td>\n",
       "    </tr>\n",
       "    <tr>\n",
       "      <th>139</th>\n",
       "      <td>None</td>\n",
       "      <td>Not very good !</td>\n",
       "      <td>StrongNegative</td>\n",
       "    </tr>\n",
       "    <tr>\n",
       "      <th>145</th>\n",
       "      <td>None</td>\n",
       "      <td>would like to come back</td>\n",
       "      <td>Positive</td>\n",
       "    </tr>\n",
       "    <tr>\n",
       "      <th>156</th>\n",
       "      <td>None</td>\n",
       "      <td>useless for removing creases in cotton shirts</td>\n",
       "      <td>Negative</td>\n",
       "    </tr>\n",
       "    <tr>\n",
       "      <th>189</th>\n",
       "      <td>None</td>\n",
       "      <td>clean</td>\n",
       "      <td>Positive</td>\n",
       "    </tr>\n",
       "    <tr>\n",
       "      <th>190</th>\n",
       "      <td>None</td>\n",
       "      <td>not updated</td>\n",
       "      <td>Negative</td>\n",
       "    </tr>\n",
       "    <tr>\n",
       "      <th>200</th>\n",
       "      <td>None</td>\n",
       "      <td>will definitely come back !</td>\n",
       "      <td>StrongPositive</td>\n",
       "    </tr>\n",
       "    <tr>\n",
       "      <th>206</th>\n",
       "      <td>None</td>\n",
       "      <td>will come again !</td>\n",
       "      <td>StrongPositive</td>\n",
       "    </tr>\n",
       "    <tr>\n",
       "      <th>260</th>\n",
       "      <td>None</td>\n",
       "      <td>stay in a better one</td>\n",
       "      <td>Negative</td>\n",
       "    </tr>\n",
       "    <tr>\n",
       "      <th>261</th>\n",
       "      <td>None</td>\n",
       "      <td>spend the extra money</td>\n",
       "      <td>Negative</td>\n",
       "    </tr>\n",
       "    <tr>\n",
       "      <th>265</th>\n",
       "      <td>None</td>\n",
       "      <td>not</td>\n",
       "      <td>Negative</td>\n",
       "    </tr>\n",
       "    <tr>\n",
       "      <th>266</th>\n",
       "      <td>None</td>\n",
       "      <td>ok</td>\n",
       "      <td>Negative</td>\n",
       "    </tr>\n",
       "    <tr>\n",
       "      <th>277</th>\n",
       "      <td>None</td>\n",
       "      <td>ABSOLUTELY NOT VALUE FOR THE MONEY</td>\n",
       "      <td>StrongNegative</td>\n",
       "    </tr>\n",
       "    <tr>\n",
       "      <th>300</th>\n",
       "      <td>None</td>\n",
       "      <td>Quiet</td>\n",
       "      <td>Positive</td>\n",
       "    </tr>\n",
       "    <tr>\n",
       "      <th>303</th>\n",
       "      <td>None</td>\n",
       "      <td>friendly</td>\n",
       "      <td>Positive</td>\n",
       "    </tr>\n",
       "    <tr>\n",
       "      <th>306</th>\n",
       "      <td>None</td>\n",
       "      <td>Perfect</td>\n",
       "      <td>StrongPositive</td>\n",
       "    </tr>\n",
       "    <tr>\n",
       "      <th>314</th>\n",
       "      <td>None</td>\n",
       "      <td>smelly</td>\n",
       "      <td>Negative</td>\n",
       "    </tr>\n",
       "    <tr>\n",
       "      <th>315</th>\n",
       "      <td>None</td>\n",
       "      <td>Crowded</td>\n",
       "      <td>Negative</td>\n",
       "    </tr>\n",
       "    <tr>\n",
       "      <th>316</th>\n",
       "      <td>None</td>\n",
       "      <td>unfriendly</td>\n",
       "      <td>Negative</td>\n",
       "    </tr>\n",
       "    <tr>\n",
       "      <th>317</th>\n",
       "      <td>None</td>\n",
       "      <td>noisy</td>\n",
       "      <td>Negative</td>\n",
       "    </tr>\n",
       "    <tr>\n",
       "      <th>322</th>\n",
       "      <td>None</td>\n",
       "      <td>AVOID !!!!</td>\n",
       "      <td>StrongNegative</td>\n",
       "    </tr>\n",
       "    <tr>\n",
       "      <th>...</th>\n",
       "      <td>...</td>\n",
       "      <td>...</td>\n",
       "      <td>...</td>\n",
       "    </tr>\n",
       "    <tr>\n",
       "      <th>3893</th>\n",
       "      <td>None</td>\n",
       "      <td>simple</td>\n",
       "      <td>Positive</td>\n",
       "    </tr>\n",
       "    <tr>\n",
       "      <th>3898</th>\n",
       "      <td>None</td>\n",
       "      <td>noise</td>\n",
       "      <td>Negative</td>\n",
       "    </tr>\n",
       "    <tr>\n",
       "      <th>3899</th>\n",
       "      <td>None</td>\n",
       "      <td>bad</td>\n",
       "      <td>Negative</td>\n",
       "    </tr>\n",
       "    <tr>\n",
       "      <th>3900</th>\n",
       "      <td>None</td>\n",
       "      <td>tiny</td>\n",
       "      <td>StrongNegative</td>\n",
       "    </tr>\n",
       "    <tr>\n",
       "      <th>3901</th>\n",
       "      <td>None</td>\n",
       "      <td>A lot of noise</td>\n",
       "      <td>StrongNegative</td>\n",
       "    </tr>\n",
       "    <tr>\n",
       "      <th>3925</th>\n",
       "      <td>None</td>\n",
       "      <td>keep coming back</td>\n",
       "      <td>Positive</td>\n",
       "    </tr>\n",
       "    <tr>\n",
       "      <th>3930</th>\n",
       "      <td>None</td>\n",
       "      <td>keep coming back</td>\n",
       "      <td>Positive</td>\n",
       "    </tr>\n",
       "    <tr>\n",
       "      <th>3942</th>\n",
       "      <td>None</td>\n",
       "      <td>warmly welcomed by all the staff</td>\n",
       "      <td>Positive</td>\n",
       "    </tr>\n",
       "    <tr>\n",
       "      <th>3943</th>\n",
       "      <td>None</td>\n",
       "      <td>supported our needs throughout the visit</td>\n",
       "      <td>Positive</td>\n",
       "    </tr>\n",
       "    <tr>\n",
       "      <th>3977</th>\n",
       "      <td>None</td>\n",
       "      <td>Over 40 Euros for a pizza , burger and two drinks</td>\n",
       "      <td>Negative</td>\n",
       "    </tr>\n",
       "    <tr>\n",
       "      <th>3999</th>\n",
       "      <td>None</td>\n",
       "      <td>Definitely can be highly recommended</td>\n",
       "      <td>StrongPositive</td>\n",
       "    </tr>\n",
       "    <tr>\n",
       "      <th>4000</th>\n",
       "      <td>None</td>\n",
       "      <td>Ancient charme outside</td>\n",
       "      <td>Positive</td>\n",
       "    </tr>\n",
       "    <tr>\n",
       "      <th>4001</th>\n",
       "      <td>None</td>\n",
       "      <td>very modern inside</td>\n",
       "      <td>Positive</td>\n",
       "    </tr>\n",
       "    <tr>\n",
       "      <th>4013</th>\n",
       "      <td>None</td>\n",
       "      <td>well connected</td>\n",
       "      <td>Positive</td>\n",
       "    </tr>\n",
       "    <tr>\n",
       "      <th>4014</th>\n",
       "      <td>None</td>\n",
       "      <td>Well positioned for city sightseeing</td>\n",
       "      <td>Positive</td>\n",
       "    </tr>\n",
       "    <tr>\n",
       "      <th>4015</th>\n",
       "      <td>None</td>\n",
       "      <td>easy access to airport with metro</td>\n",
       "      <td>Positive</td>\n",
       "    </tr>\n",
       "    <tr>\n",
       "      <th>4027</th>\n",
       "      <td>None</td>\n",
       "      <td>Really enjoyed !</td>\n",
       "      <td>StrongPositive</td>\n",
       "    </tr>\n",
       "    <tr>\n",
       "      <th>4040</th>\n",
       "      <td>None</td>\n",
       "      <td>must pay at check in</td>\n",
       "      <td>Negative</td>\n",
       "    </tr>\n",
       "    <tr>\n",
       "      <th>4066</th>\n",
       "      <td>None</td>\n",
       "      <td>Never again !</td>\n",
       "      <td>StrongNegative</td>\n",
       "    </tr>\n",
       "    <tr>\n",
       "      <th>4075</th>\n",
       "      <td>None</td>\n",
       "      <td>Too pollution in the surrounding streets</td>\n",
       "      <td>Negative</td>\n",
       "    </tr>\n",
       "    <tr>\n",
       "      <th>4081</th>\n",
       "      <td>None</td>\n",
       "      <td>Terrible stay !</td>\n",
       "      <td>StrongNegative</td>\n",
       "    </tr>\n",
       "    <tr>\n",
       "      <th>4084</th>\n",
       "      <td>None</td>\n",
       "      <td>Lack of private space with sun beds on the fro...</td>\n",
       "      <td>Negative</td>\n",
       "    </tr>\n",
       "    <tr>\n",
       "      <th>4090</th>\n",
       "      <td>None</td>\n",
       "      <td>Dirty.our</td>\n",
       "      <td>Negative</td>\n",
       "    </tr>\n",
       "    <tr>\n",
       "      <th>4104</th>\n",
       "      <td>None</td>\n",
       "      <td>will not go back</td>\n",
       "      <td>Negative</td>\n",
       "    </tr>\n",
       "    <tr>\n",
       "      <th>4117</th>\n",
       "      <td>None</td>\n",
       "      <td>Relax and enjoy</td>\n",
       "      <td>Positive</td>\n",
       "    </tr>\n",
       "    <tr>\n",
       "      <th>4120</th>\n",
       "      <td>None</td>\n",
       "      <td>had to sit on towels</td>\n",
       "      <td>Negative</td>\n",
       "    </tr>\n",
       "    <tr>\n",
       "      <th>4121</th>\n",
       "      <td>None</td>\n",
       "      <td>odd stains on sofa</td>\n",
       "      <td>Negative</td>\n",
       "    </tr>\n",
       "    <tr>\n",
       "      <th>4125</th>\n",
       "      <td>None</td>\n",
       "      <td>Avoid</td>\n",
       "      <td>Negative</td>\n",
       "    </tr>\n",
       "    <tr>\n",
       "      <th>4128</th>\n",
       "      <td>None</td>\n",
       "      <td>fist hole in bedroom door</td>\n",
       "      <td>Negative</td>\n",
       "    </tr>\n",
       "    <tr>\n",
       "      <th>4143</th>\n",
       "      <td>None</td>\n",
       "      <td>Would expect much more</td>\n",
       "      <td>Negative</td>\n",
       "    </tr>\n",
       "  </tbody>\n",
       "</table>\n",
       "<p>300 rows × 3 columns</p>\n",
       "</div>"
      ],
      "text/plain": [
       "     TARGET                                                OTE        POLARITY\n",
       "33     None                        Will definitely be retuning  StrongPositive\n",
       "41     None            walking distance to Sol , Gran Via etc.        Positive\n",
       "63     None                                      are satisfied        Positive\n",
       "83     None  with a shopping center on the other side of th...        Positive\n",
       "84     None                                 Close to the beach        Positive\n",
       "85     None                                          Very good  StrongPositive\n",
       "101    None                                          Practical        Positive\n",
       "110    None  can easily find connections to every tourist a...        Positive\n",
       "129    None                              would love to go back        Positive\n",
       "130    None                           One of the best holidays  StrongPositive\n",
       "139    None                                    Not very good !  StrongNegative\n",
       "145    None                            would like to come back        Positive\n",
       "156    None      useless for removing creases in cotton shirts        Negative\n",
       "189    None                                              clean        Positive\n",
       "190    None                                        not updated        Negative\n",
       "200    None                        will definitely come back !  StrongPositive\n",
       "206    None                                  will come again !  StrongPositive\n",
       "260    None                               stay in a better one        Negative\n",
       "261    None                              spend the extra money        Negative\n",
       "265    None                                                not        Negative\n",
       "266    None                                                 ok        Negative\n",
       "277    None                 ABSOLUTELY NOT VALUE FOR THE MONEY  StrongNegative\n",
       "300    None                                              Quiet        Positive\n",
       "303    None                                           friendly        Positive\n",
       "306    None                                            Perfect  StrongPositive\n",
       "314    None                                             smelly        Negative\n",
       "315    None                                            Crowded        Negative\n",
       "316    None                                         unfriendly        Negative\n",
       "317    None                                              noisy        Negative\n",
       "322    None                                         AVOID !!!!  StrongNegative\n",
       "...     ...                                                ...             ...\n",
       "3893   None                                             simple        Positive\n",
       "3898   None                                              noise        Negative\n",
       "3899   None                                                bad        Negative\n",
       "3900   None                                               tiny  StrongNegative\n",
       "3901   None                                     A lot of noise  StrongNegative\n",
       "3925   None                                   keep coming back        Positive\n",
       "3930   None                                   keep coming back        Positive\n",
       "3942   None                   warmly welcomed by all the staff        Positive\n",
       "3943   None           supported our needs throughout the visit        Positive\n",
       "3977   None  Over 40 Euros for a pizza , burger and two drinks        Negative\n",
       "3999   None               Definitely can be highly recommended  StrongPositive\n",
       "4000   None                             Ancient charme outside        Positive\n",
       "4001   None                                 very modern inside        Positive\n",
       "4013   None                                     well connected        Positive\n",
       "4014   None               Well positioned for city sightseeing        Positive\n",
       "4015   None                  easy access to airport with metro        Positive\n",
       "4027   None                                   Really enjoyed !  StrongPositive\n",
       "4040   None                               must pay at check in        Negative\n",
       "4066   None                                      Never again !  StrongNegative\n",
       "4075   None           Too pollution in the surrounding streets        Negative\n",
       "4081   None                                    Terrible stay !  StrongNegative\n",
       "4084   None  Lack of private space with sun beds on the fro...        Negative\n",
       "4090   None                                          Dirty.our        Negative\n",
       "4104   None                                   will not go back        Negative\n",
       "4117   None                                    Relax and enjoy        Positive\n",
       "4120   None                               had to sit on towels        Negative\n",
       "4121   None                                 odd stains on sofa        Negative\n",
       "4125   None                                              Avoid        Negative\n",
       "4128   None                          fist hole in bedroom door        Negative\n",
       "4143   None                             Would expect much more        Negative\n",
       "\n",
       "[300 rows x 3 columns]"
      ]
     },
     "execution_count": 13,
     "metadata": {},
     "output_type": "execute_result"
    }
   ],
   "source": [
    "df[df.TARGET.isnull()]"
   ]
  },
  {
   "cell_type": "code",
   "execution_count": 15,
   "metadata": {
    "collapsed": false
   },
   "outputs": [
    {
     "data": {
      "text/plain": [
       "False"
      ]
     },
     "execution_count": 15,
     "metadata": {},
     "output_type": "execute_result"
    }
   ],
   "source": [
    "df.OTE.isnull().any()"
   ]
  },
  {
   "cell_type": "code",
   "execution_count": 16,
   "metadata": {
    "collapsed": false
   },
   "outputs": [
    {
     "data": {
      "text/plain": [
       "False"
      ]
     },
     "execution_count": 16,
     "metadata": {},
     "output_type": "execute_result"
    }
   ],
   "source": [
    "df.POLARITY.isnull().any()"
   ]
  },
  {
   "cell_type": "markdown",
   "metadata": {},
   "source": [
    "----\n",
    "# Debugging Section\n"
   ]
  },
  {
   "cell_type": "code",
   "execution_count": 114,
   "metadata": {
    "collapsed": false
   },
   "outputs": [
    {
     "name": "stdout",
     "output_type": "stream",
     "text": [
      "S:\\ebao\\ABSA\\Data\\OpeNER\\opinion_annotations_en\\kaf\\hotel/english00002_0685261321182f93763efabe4099a840.kaf\n"
     ]
    },
    {
     "data": {
      "text/html": [
       "<div>\n",
       "<table border=\"1\" class=\"dataframe\">\n",
       "  <thead>\n",
       "    <tr style=\"text-align: right;\">\n",
       "      <th></th>\n",
       "      <th>TARGET</th>\n",
       "      <th>OTE</th>\n",
       "      <th>POLARITY</th>\n",
       "    </tr>\n",
       "  </thead>\n",
       "  <tbody>\n",
       "    <tr>\n",
       "      <th>0</th>\n",
       "      <td>False</td>\n",
       "      <td>False</td>\n",
       "      <td>False</td>\n",
       "    </tr>\n",
       "    <tr>\n",
       "      <th>1</th>\n",
       "      <td>False</td>\n",
       "      <td>False</td>\n",
       "      <td>False</td>\n",
       "    </tr>\n",
       "    <tr>\n",
       "      <th>2</th>\n",
       "      <td>False</td>\n",
       "      <td>False</td>\n",
       "      <td>False</td>\n",
       "    </tr>\n",
       "    <tr>\n",
       "      <th>3</th>\n",
       "      <td>False</td>\n",
       "      <td>False</td>\n",
       "      <td>False</td>\n",
       "    </tr>\n",
       "    <tr>\n",
       "      <th>4</th>\n",
       "      <td>True</td>\n",
       "      <td>False</td>\n",
       "      <td>False</td>\n",
       "    </tr>\n",
       "    <tr>\n",
       "      <th>5</th>\n",
       "      <td>False</td>\n",
       "      <td>False</td>\n",
       "      <td>False</td>\n",
       "    </tr>\n",
       "    <tr>\n",
       "      <th>6</th>\n",
       "      <td>False</td>\n",
       "      <td>False</td>\n",
       "      <td>False</td>\n",
       "    </tr>\n",
       "  </tbody>\n",
       "</table>\n",
       "</div>"
      ],
      "text/plain": [
       "  TARGET    OTE POLARITY\n",
       "0  False  False    False\n",
       "1  False  False    False\n",
       "2  False  False    False\n",
       "3  False  False    False\n",
       "4   True  False    False\n",
       "5  False  False    False\n",
       "6  False  False    False"
      ]
     },
     "execution_count": 114,
     "metadata": {},
     "output_type": "execute_result"
    }
   ],
   "source": [
    "extract_data('S:\\ebao\\ABSA\\Data\\OpeNER\\opinion_annotations_en\\kaf\\hotel/english00002_0685261321182f93763efabe4099a840.kaf')"
   ]
  },
  {
   "cell_type": "code",
   "execution_count": null,
   "metadata": {
    "collapsed": true
   },
   "outputs": [],
   "source": []
  },
  {
   "cell_type": "code",
   "execution_count": 93,
   "metadata": {
    "collapsed": true
   },
   "outputs": [],
   "source": [
    "f = 'S:\\ebao\\ABSA\\Data\\OpeNER\\opinion_annotations_en\\kaf\\hotel/english00002_0685261321182f93763efabe4099a840.kaf'"
   ]
  },
  {
   "cell_type": "code",
   "execution_count": 94,
   "metadata": {
    "collapsed": true
   },
   "outputs": [],
   "source": [
    "root = get_root(f)"
   ]
  },
  {
   "cell_type": "code",
   "execution_count": 95,
   "metadata": {
    "collapsed": false,
    "scrolled": true
   },
   "outputs": [
    {
     "data": {
      "text/plain": [
       "'Nicest hotel ever ! This was my favourite holiday place I have ever been to ! Will definitely be retuning , advise people to go here for a great holiday ! People are great ! Staff are great and the whole holiday package was fantastic !'"
      ]
     },
     "execution_count": 95,
     "metadata": {},
     "output_type": "execute_result"
    }
   ],
   "source": [
    "' '.join(get_text(root))"
   ]
  },
  {
   "cell_type": "code",
   "execution_count": 96,
   "metadata": {
    "collapsed": false
   },
   "outputs": [
    {
     "name": "stdout",
     "output_type": "stream",
     "text": [
      "True\n"
     ]
    }
   ],
   "source": [
    "if get_opinions(root):\n",
    "    print(True)\n",
    "else:\n",
    "    print(False)"
   ]
  },
  {
   "cell_type": "code",
   "execution_count": 97,
   "metadata": {
    "collapsed": false
   },
   "outputs": [
    {
     "data": {
      "text/plain": [
       "[<Element 'opinion' at 0x000000603EE4CB88>,\n",
       " <Element 'opinion' at 0x000000603EE4C598>,\n",
       " <Element 'opinion' at 0x000000603EE4C908>,\n",
       " <Element 'opinion' at 0x000000603EE4C5E8>,\n",
       " <Element 'opinion' at 0x000000603EE4C728>,\n",
       " <Element 'opinion' at 0x000000603EAF1868>,\n",
       " <Element 'opinion' at 0x000000603EAF16D8>]"
      ]
     },
     "execution_count": 97,
     "metadata": {},
     "output_type": "execute_result"
    }
   ],
   "source": [
    "opinions = [e for c in root.getchildren() for e in c.findall('opinion') if c.tag == 'opinions']\n",
    "opinions"
   ]
  },
  {
   "cell_type": "code",
   "execution_count": null,
   "metadata": {
    "collapsed": true
   },
   "outputs": [],
   "source": []
  },
  {
   "cell_type": "code",
   "execution_count": 102,
   "metadata": {
    "collapsed": false
   },
   "outputs": [],
   "source": [
    "try:\n",
    "    targets = [o.findall('span')[0].findall('target') for o in opinions[4].getchildren() if o.tag == 'opinion_target'][0]\n",
    "except IndexError:\n",
    "    t_id = [None]"
   ]
  },
  {
   "cell_type": "code",
   "execution_count": 104,
   "metadata": {
    "collapsed": false
   },
   "outputs": [],
   "source": [
    "if t_id[0]:\n",
    "    print(True)"
   ]
  },
  {
   "cell_type": "code",
   "execution_count": null,
   "metadata": {
    "collapsed": true
   },
   "outputs": [],
   "source": []
  },
  {
   "cell_type": "code",
   "execution_count": null,
   "metadata": {
    "collapsed": true
   },
   "outputs": [],
   "source": []
  },
  {
   "cell_type": "code",
   "execution_count": 95,
   "metadata": {
    "collapsed": false
   },
   "outputs": [
    {
     "data": {
      "text/plain": [
       "{}"
      ]
     },
     "execution_count": 95,
     "metadata": {},
     "output_type": "execute_result"
    }
   ],
   "source": [
    "root.getchildren()[-1].getchildren()[0].getchildren()[1].findall('span')[0].attrib"
   ]
  },
  {
   "cell_type": "code",
   "execution_count": 80,
   "metadata": {
    "collapsed": false
   },
   "outputs": [
    {
     "data": {
      "text/plain": [
       "[]"
      ]
     },
     "execution_count": 80,
     "metadata": {},
     "output_type": "execute_result"
    }
   ],
   "source": [
    "[o for o in root.getchildren()[-1].getchildren() if o.tag == 'opinion_target']"
   ]
  },
  {
   "cell_type": "code",
   "execution_count": null,
   "metadata": {
    "collapsed": true
   },
   "outputs": [],
   "source": [
    "def get_opinions(root):\n",
    "    \"\"\"Return target, expression, polarity\"\"\"\n",
    "    opinions = [e for c in root.getchildren() for e in c.findall('opinion') if c.tag == 'opinions']\n",
    "    triples = []\n",
    "    for opinion in opinions:\n",
    "        targets = [o.findall('span')[0].findall('target') for o in opinion.getchildren() if o.tag == 'opinion_target'][0]\n",
    "        t_id = [t.attrib['id'] for t in targets]\n",
    "        exps = [e.findall('span')[0].findall('target') for e in opinion.getchildren() if e.tag == 'opinion_expression'][0]\n",
    "        e_id = [e.attrib['id'] for e in exps]\n",
    "        polarity = [e.attrib['polarity'] for e in opinion.getchildren() if e.tag == 'opinion_expression'][0]\n",
    "        triples.append((t_id,e_id,polarity))\n",
    "    return triples"
   ]
  }
 ],
 "metadata": {
  "kernelspec": {
   "display_name": "Python [conda env:tensorflow]",
   "language": "python",
   "name": "conda-env-tensorflow-py"
  },
  "language_info": {
   "codemirror_mode": {
    "name": "ipython",
    "version": 3
   },
   "file_extension": ".py",
   "mimetype": "text/x-python",
   "name": "python",
   "nbconvert_exporter": "python",
   "pygments_lexer": "ipython3",
   "version": "3.5.3"
  }
 },
 "nbformat": 4,
 "nbformat_minor": 2
}
