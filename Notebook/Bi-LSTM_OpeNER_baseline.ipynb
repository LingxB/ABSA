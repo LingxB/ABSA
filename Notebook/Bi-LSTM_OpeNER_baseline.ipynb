{
 "cells": [
  {
   "cell_type": "code",
   "execution_count": 1,
   "metadata": {},
   "outputs": [
    {
     "name": "stderr",
     "output_type": "stream",
     "text": [
      "Using TensorFlow backend.\n"
     ]
    }
   ],
   "source": [
    "from keras.preprocessing import sequence\n",
    "from keras.models import Sequential\n",
    "from keras.layers import Dense, Embedding, LSTM, Bidirectional\n",
    "from keras.optimizers import Adam\n",
    "from keras import backend as K\n",
    "import pandas as pd\n",
    "import numpy as np\n",
    "from collections import Counter\n",
    "%matplotlib inline"
   ]
  },
  {
   "cell_type": "code",
   "execution_count": 2,
   "metadata": {
    "collapsed": true
   },
   "outputs": [],
   "source": [
    "datapath = 'F:\\PhD\\ABSA\\Data\\OpeNER\\OpeNER_TOP.csv'"
   ]
  },
  {
   "cell_type": "code",
   "execution_count": 3,
   "metadata": {
    "collapsed": true
   },
   "outputs": [],
   "source": [
    "dataset = pd.read_csv(datapath)"
   ]
  },
  {
   "cell_type": "code",
   "execution_count": 4,
   "metadata": {},
   "outputs": [
    {
     "data": {
      "text/plain": [
       "(4150, 3)"
      ]
     },
     "execution_count": 4,
     "metadata": {},
     "output_type": "execute_result"
    }
   ],
   "source": [
    "dataset.shape"
   ]
  },
  {
   "cell_type": "code",
   "execution_count": 5,
   "metadata": {},
   "outputs": [
    {
     "data": {
      "text/html": [
       "<div>\n",
       "<table border=\"1\" class=\"dataframe\">\n",
       "  <thead>\n",
       "    <tr style=\"text-align: right;\">\n",
       "      <th></th>\n",
       "      <th>TARGET</th>\n",
       "      <th>OTE</th>\n",
       "      <th>POLARITY</th>\n",
       "    </tr>\n",
       "  </thead>\n",
       "  <tbody>\n",
       "    <tr>\n",
       "      <th>0</th>\n",
       "      <td>Hotel</td>\n",
       "      <td>full of Russians and children</td>\n",
       "      <td>Negative</td>\n",
       "    </tr>\n",
       "    <tr>\n",
       "      <th>1</th>\n",
       "      <td>evening entertainment</td>\n",
       "      <td>Not suitable for couples without children</td>\n",
       "      <td>Negative</td>\n",
       "    </tr>\n",
       "    <tr>\n",
       "      <th>2</th>\n",
       "      <td>evening entertainment</td>\n",
       "      <td>almost nill</td>\n",
       "      <td>Negative</td>\n",
       "    </tr>\n",
       "    <tr>\n",
       "      <th>3</th>\n",
       "      <td>evening entertainment</td>\n",
       "      <td>geared for families</td>\n",
       "      <td>Negative</td>\n",
       "    </tr>\n",
       "    <tr>\n",
       "      <th>4</th>\n",
       "      <td>The bar staff</td>\n",
       "      <td>make nice comments</td>\n",
       "      <td>Positive</td>\n",
       "    </tr>\n",
       "  </tbody>\n",
       "</table>\n",
       "</div>"
      ],
      "text/plain": [
       "                  TARGET                                        OTE  POLARITY\n",
       "0                  Hotel              full of Russians and children  Negative\n",
       "1  evening entertainment  Not suitable for couples without children  Negative\n",
       "2  evening entertainment                                almost nill  Negative\n",
       "3  evening entertainment                        geared for families  Negative\n",
       "4          The bar staff                         make nice comments  Positive"
      ]
     },
     "execution_count": 5,
     "metadata": {},
     "output_type": "execute_result"
    }
   ],
   "source": [
    "dataset.head()"
   ]
  },
  {
   "cell_type": "code",
   "execution_count": 6,
   "metadata": {
    "collapsed": true
   },
   "outputs": [],
   "source": [
    "dataset['TOKENS'] = dataset.OTE.apply(lambda x: x.split())\n",
    "dataset['TLEN'] = dataset.TOKENS.apply(lambda x: len(x))\n",
    "dataset['CLASS'] = ~dataset.POLARITY.str.contains('Negative')"
   ]
  },
  {
   "cell_type": "code",
   "execution_count": 7,
   "metadata": {},
   "outputs": [
    {
     "data": {
      "text/html": [
       "<div>\n",
       "<table border=\"1\" class=\"dataframe\">\n",
       "  <thead>\n",
       "    <tr style=\"text-align: right;\">\n",
       "      <th></th>\n",
       "      <th>TARGET</th>\n",
       "      <th>OTE</th>\n",
       "      <th>POLARITY</th>\n",
       "      <th>TOKENS</th>\n",
       "      <th>TLEN</th>\n",
       "      <th>CLASS</th>\n",
       "    </tr>\n",
       "  </thead>\n",
       "  <tbody>\n",
       "    <tr>\n",
       "      <th>0</th>\n",
       "      <td>Hotel</td>\n",
       "      <td>full of Russians and children</td>\n",
       "      <td>Negative</td>\n",
       "      <td>[full, of, Russians, and, children]</td>\n",
       "      <td>5</td>\n",
       "      <td>False</td>\n",
       "    </tr>\n",
       "    <tr>\n",
       "      <th>1</th>\n",
       "      <td>evening entertainment</td>\n",
       "      <td>Not suitable for couples without children</td>\n",
       "      <td>Negative</td>\n",
       "      <td>[Not, suitable, for, couples, without, children]</td>\n",
       "      <td>6</td>\n",
       "      <td>False</td>\n",
       "    </tr>\n",
       "    <tr>\n",
       "      <th>2</th>\n",
       "      <td>evening entertainment</td>\n",
       "      <td>almost nill</td>\n",
       "      <td>Negative</td>\n",
       "      <td>[almost, nill]</td>\n",
       "      <td>2</td>\n",
       "      <td>False</td>\n",
       "    </tr>\n",
       "    <tr>\n",
       "      <th>3</th>\n",
       "      <td>evening entertainment</td>\n",
       "      <td>geared for families</td>\n",
       "      <td>Negative</td>\n",
       "      <td>[geared, for, families]</td>\n",
       "      <td>3</td>\n",
       "      <td>False</td>\n",
       "    </tr>\n",
       "    <tr>\n",
       "      <th>4</th>\n",
       "      <td>The bar staff</td>\n",
       "      <td>make nice comments</td>\n",
       "      <td>Positive</td>\n",
       "      <td>[make, nice, comments]</td>\n",
       "      <td>3</td>\n",
       "      <td>True</td>\n",
       "    </tr>\n",
       "    <tr>\n",
       "      <th>5</th>\n",
       "      <td>The bar staff</td>\n",
       "      <td>did make an effort to smile</td>\n",
       "      <td>Positive</td>\n",
       "      <td>[did, make, an, effort, to, smile]</td>\n",
       "      <td>6</td>\n",
       "      <td>True</td>\n",
       "    </tr>\n",
       "    <tr>\n",
       "      <th>6</th>\n",
       "      <td>The bar staff</td>\n",
       "      <td>overworked</td>\n",
       "      <td>Negative</td>\n",
       "      <td>[overworked]</td>\n",
       "      <td>1</td>\n",
       "      <td>False</td>\n",
       "    </tr>\n",
       "    <tr>\n",
       "      <th>7</th>\n",
       "      <td>The bar staff</td>\n",
       "      <td>tired</td>\n",
       "      <td>Negative</td>\n",
       "      <td>[tired]</td>\n",
       "      <td>1</td>\n",
       "      <td>False</td>\n",
       "    </tr>\n",
       "    <tr>\n",
       "      <th>8</th>\n",
       "      <td>Room</td>\n",
       "      <td>large</td>\n",
       "      <td>Positive</td>\n",
       "      <td>[large]</td>\n",
       "      <td>1</td>\n",
       "      <td>True</td>\n",
       "    </tr>\n",
       "    <tr>\n",
       "      <th>9</th>\n",
       "      <td>Room</td>\n",
       "      <td>very clean</td>\n",
       "      <td>StrongPositive</td>\n",
       "      <td>[very, clean]</td>\n",
       "      <td>2</td>\n",
       "      <td>True</td>\n",
       "    </tr>\n",
       "    <tr>\n",
       "      <th>10</th>\n",
       "      <td>bread , soup and desserts</td>\n",
       "      <td>good</td>\n",
       "      <td>Positive</td>\n",
       "      <td>[good]</td>\n",
       "      <td>1</td>\n",
       "      <td>True</td>\n",
       "    </tr>\n",
       "    <tr>\n",
       "      <th>11</th>\n",
       "      <td>Hotel</td>\n",
       "      <td>full of badly behaved children</td>\n",
       "      <td>StrongNegative</td>\n",
       "      <td>[full, of, badly, behaved, children]</td>\n",
       "      <td>5</td>\n",
       "      <td>False</td>\n",
       "    </tr>\n",
       "    <tr>\n",
       "      <th>12</th>\n",
       "      <td>The food</td>\n",
       "      <td>edible</td>\n",
       "      <td>Positive</td>\n",
       "      <td>[edible]</td>\n",
       "      <td>1</td>\n",
       "      <td>True</td>\n",
       "    </tr>\n",
       "    <tr>\n",
       "      <th>13</th>\n",
       "      <td>The food</td>\n",
       "      <td>very basic</td>\n",
       "      <td>StrongNegative</td>\n",
       "      <td>[very, basic]</td>\n",
       "      <td>2</td>\n",
       "      <td>False</td>\n",
       "    </tr>\n",
       "    <tr>\n",
       "      <th>14</th>\n",
       "      <td>Condition of the room</td>\n",
       "      <td>very poor</td>\n",
       "      <td>StrongNegative</td>\n",
       "      <td>[very, poor]</td>\n",
       "      <td>2</td>\n",
       "      <td>False</td>\n",
       "    </tr>\n",
       "  </tbody>\n",
       "</table>\n",
       "</div>"
      ],
      "text/plain": [
       "                       TARGET                                        OTE  \\\n",
       "0                       Hotel              full of Russians and children   \n",
       "1       evening entertainment  Not suitable for couples without children   \n",
       "2       evening entertainment                                almost nill   \n",
       "3       evening entertainment                        geared for families   \n",
       "4               The bar staff                         make nice comments   \n",
       "5               The bar staff                did make an effort to smile   \n",
       "6               The bar staff                                 overworked   \n",
       "7               The bar staff                                      tired   \n",
       "8                        Room                                      large   \n",
       "9                        Room                                 very clean   \n",
       "10  bread , soup and desserts                                       good   \n",
       "11                      Hotel             full of badly behaved children   \n",
       "12                   The food                                     edible   \n",
       "13                   The food                                 very basic   \n",
       "14      Condition of the room                                  very poor   \n",
       "\n",
       "          POLARITY                                            TOKENS  TLEN  \\\n",
       "0         Negative               [full, of, Russians, and, children]     5   \n",
       "1         Negative  [Not, suitable, for, couples, without, children]     6   \n",
       "2         Negative                                    [almost, nill]     2   \n",
       "3         Negative                           [geared, for, families]     3   \n",
       "4         Positive                            [make, nice, comments]     3   \n",
       "5         Positive                [did, make, an, effort, to, smile]     6   \n",
       "6         Negative                                      [overworked]     1   \n",
       "7         Negative                                           [tired]     1   \n",
       "8         Positive                                           [large]     1   \n",
       "9   StrongPositive                                     [very, clean]     2   \n",
       "10        Positive                                            [good]     1   \n",
       "11  StrongNegative              [full, of, badly, behaved, children]     5   \n",
       "12        Positive                                          [edible]     1   \n",
       "13  StrongNegative                                     [very, basic]     2   \n",
       "14  StrongNegative                                      [very, poor]     2   \n",
       "\n",
       "    CLASS  \n",
       "0   False  \n",
       "1   False  \n",
       "2   False  \n",
       "3   False  \n",
       "4    True  \n",
       "5    True  \n",
       "6   False  \n",
       "7   False  \n",
       "8    True  \n",
       "9    True  \n",
       "10   True  \n",
       "11  False  \n",
       "12   True  \n",
       "13  False  \n",
       "14  False  "
      ]
     },
     "execution_count": 7,
     "metadata": {},
     "output_type": "execute_result"
    }
   ],
   "source": [
    "dataset.head(15)"
   ]
  },
  {
   "cell_type": "code",
   "execution_count": 8,
   "metadata": {
    "collapsed": true
   },
   "outputs": [],
   "source": [
    "def freq_dist(tokens):\n",
    "    c = Counter()\n",
    "    for t in tokens:\n",
    "        c.update(t)\n",
    "    return c\n",
    "\n",
    "def w_index(counter, start_idx=3):\n",
    "    w_idx = {w:i+start_idx for i,(w,c) in enumerate(counter.most_common())}\n",
    "    return w_idx\n",
    "\n",
    "\n",
    "def df2feats(df, colname, w_idx):\n",
    "    data = df[colname].apply(lambda x: [w_idx[w] for w in x]).values\n",
    "    return data\n",
    "\n",
    "\n",
    "def train_test(data, test_per=0.25):\n",
    "    split = int(data.shape[0]*(1-0.25))\n",
    "    \n",
    "    if len(data.shape) > 1:\n",
    "        train = data[:split,:]\n",
    "        test = data[split:,:]\n",
    "    else:\n",
    "        train = data[:split]\n",
    "        test = data[split:]\n",
    "    \n",
    "    return train,test"
   ]
  },
  {
   "cell_type": "code",
   "execution_count": 9,
   "metadata": {
    "collapsed": true
   },
   "outputs": [],
   "source": [
    "c = freq_dist(dataset.TOKENS)"
   ]
  },
  {
   "cell_type": "code",
   "execution_count": 10,
   "metadata": {},
   "outputs": [
    {
     "data": {
      "text/plain": [
       "[('climbing', 1),\n",
       " ('Seven', 1),\n",
       " ('tube', 1),\n",
       " ('prices', 1),\n",
       " ('packing', 1),\n",
       " ('age', 1),\n",
       " ('persons', 1),\n",
       " ('drinks', 1),\n",
       " ('overcooked', 1),\n",
       " ('quit', 1)]"
      ]
     },
     "execution_count": 10,
     "metadata": {},
     "output_type": "execute_result"
    }
   ],
   "source": [
    "c.most_common()[-10:]"
   ]
  },
  {
   "cell_type": "code",
   "execution_count": 11,
   "metadata": {
    "collapsed": true
   },
   "outputs": [],
   "source": [
    "w_idx = w_index(c, start_idx=1)"
   ]
  },
  {
   "cell_type": "code",
   "execution_count": 12,
   "metadata": {},
   "outputs": [
    {
     "data": {
      "text/plain": [
       "array([[142, 9, 777, 23, 239], [113, 1422, 17, 1770, 256, 239],\n",
       "       [504, 1883], ..., [641], [335, 243, 853], [437]], dtype=object)"
      ]
     },
     "execution_count": 12,
     "metadata": {},
     "output_type": "execute_result"
    }
   ],
   "source": [
    "data = df2feats(dataset, 'TOKENS', w_idx)\n",
    "data"
   ]
  },
  {
   "cell_type": "code",
   "execution_count": 13,
   "metadata": {
    "scrolled": true
   },
   "outputs": [
    {
     "data": {
      "text/plain": [
       "<matplotlib.axes._subplots.AxesSubplot at 0x1b15ee2fba8>"
      ]
     },
     "execution_count": 13,
     "metadata": {},
     "output_type": "execute_result"
    },
    {
     "data": {
      "image/png": "[encoded data removed]",
      "text/plain": [
       "<matplotlib.figure.Figure at 0x1b15ee2f5f8>"
      ]
     },
     "metadata": {},
     "output_type": "display_data"
    }
   ],
   "source": [
    "dataset.TLEN.plot('hist')"
   ]
  },
  {
   "cell_type": "code",
   "execution_count": 14,
   "metadata": {},
   "outputs": [
    {
     "name": "stdout",
     "output_type": "stream",
     "text": [
      "(4150, 10)\n"
     ]
    },
    {
     "data": {
      "text/plain": [
       "array([[    0.,     0.,     0., ...,   777.,    23.,   239.],\n",
       "       [    0.,     0.,     0., ...,  1770.,   256.,   239.],\n",
       "       [    0.,     0.,     0., ...,     0.,   504.,  1883.],\n",
       "       ..., \n",
       "       [    0.,     0.,     0., ...,     0.,     0.,   641.],\n",
       "       [    0.,     0.,     0., ...,   335.,   243.,   853.],\n",
       "       [    0.,     0.,     0., ...,     0.,     0.,   437.]], dtype=float32)"
      ]
     },
     "execution_count": 14,
     "metadata": {},
     "output_type": "execute_result"
    }
   ],
   "source": [
    "data = sequence.pad_sequences(data, maxlen=10).astype('float32')\n",
    "print(data.shape)\n",
    "data"
   ]
  },
  {
   "cell_type": "code",
   "execution_count": 15,
   "metadata": {},
   "outputs": [
    {
     "name": "stdout",
     "output_type": "stream",
     "text": [
      "(4150,)\n"
     ]
    },
    {
     "data": {
      "text/plain": [
       "array([ 0.,  0.,  0., ...,  0.,  0.,  0.], dtype=float32)"
      ]
     },
     "execution_count": 15,
     "metadata": {},
     "output_type": "execute_result"
    }
   ],
   "source": [
    "labels = dataset.CLASS.values.astype('float32')\n",
    "print(labels.shape)\n",
    "labels"
   ]
  },
  {
   "cell_type": "code",
   "execution_count": 16,
   "metadata": {
    "collapsed": true
   },
   "outputs": [],
   "source": [
    "X_train,X_test = train_test(data)\n",
    "y_train,y_test = train_test(labels)"
   ]
  },
  {
   "cell_type": "code",
   "execution_count": 17,
   "metadata": {},
   "outputs": [
    {
     "data": {
      "text/plain": [
       "(3112, 10)"
      ]
     },
     "execution_count": 17,
     "metadata": {},
     "output_type": "execute_result"
    }
   ],
   "source": [
    "X_train.shape"
   ]
  },
  {
   "cell_type": "code",
   "execution_count": 18,
   "metadata": {},
   "outputs": [
    {
     "data": {
      "text/plain": [
       "(3112,)"
      ]
     },
     "execution_count": 18,
     "metadata": {},
     "output_type": "execute_result"
    }
   ],
   "source": [
    "y_train.shape"
   ]
  },
  {
   "cell_type": "code",
   "execution_count": 19,
   "metadata": {},
   "outputs": [
    {
     "data": {
      "text/plain": [
       "(1038, 10)"
      ]
     },
     "execution_count": 19,
     "metadata": {},
     "output_type": "execute_result"
    }
   ],
   "source": [
    "X_test.shape"
   ]
  },
  {
   "cell_type": "code",
   "execution_count": 20,
   "metadata": {},
   "outputs": [
    {
     "data": {
      "text/plain": [
       "(1038,)"
      ]
     },
     "execution_count": 20,
     "metadata": {},
     "output_type": "execute_result"
    }
   ],
   "source": [
    "y_test.shape"
   ]
  },
  {
   "cell_type": "code",
   "execution_count": 21,
   "metadata": {},
   "outputs": [
    {
     "data": {
      "text/plain": [
       "1964"
      ]
     },
     "execution_count": 21,
     "metadata": {},
     "output_type": "execute_result"
    }
   ],
   "source": [
    "len(w_idx) #Vocab"
   ]
  },
  {
   "cell_type": "code",
   "execution_count": 22,
   "metadata": {},
   "outputs": [
    {
     "data": {
      "text/plain": [
       "1964"
      ]
     },
     "execution_count": 22,
     "metadata": {},
     "output_type": "execute_result"
    }
   ],
   "source": [
    "max(w_idx.values())"
   ]
  },
  {
   "cell_type": "code",
   "execution_count": 23,
   "metadata": {
    "collapsed": true
   },
   "outputs": [],
   "source": [
    "config = {'embedding_size': 200, \n",
    "          'vocab': 1964,\n",
    "          'time_steps': 10,\n",
    "          'drop_out': 0.2,\n",
    "          'LSTM_cell': 64,\n",
    "          'learning_rate': 0.001,\n",
    "          'decay': 0.0,\n",
    "          'batch_size': 32,\n",
    "          'epochs': 15\n",
    "         }"
   ]
  },
  {
   "cell_type": "code",
   "execution_count": 24,
   "metadata": {
    "collapsed": true
   },
   "outputs": [],
   "source": [
    "adam = Adam(lr=config['learning_rate'], decay=config['decay'])\n",
    "model = Sequential()\n",
    "model.add(Embedding(config['vocab']+2, config['embedding_size'], input_length=config['time_steps'], mask_zero=True))\n",
    "model.add(Bidirectional(LSTM(config['LSTM_cell'], dropout=config['drop_out'], recurrent_dropout=config['drop_out'])))\n",
    "#model.add(LSTM(128, dropout=0.2, recurrent_dropout=0.2))\n",
    "model.add(Dense(1, activation='sigmoid'))"
   ]
  },
  {
   "cell_type": "code",
   "execution_count": 25,
   "metadata": {},
   "outputs": [
    {
     "data": {
      "text/plain": [
       "[<keras.layers.embeddings.Embedding at 0x1b15ef9f710>,\n",
       " <keras.layers.wrappers.Bidirectional at 0x1b15f009ef0>,\n",
       " <keras.layers.core.Dense at 0x1b15efac278>]"
      ]
     },
     "execution_count": 25,
     "metadata": {},
     "output_type": "execute_result"
    }
   ],
   "source": [
    "model.layers"
   ]
  },
  {
   "cell_type": "code",
   "execution_count": 26,
   "metadata": {},
   "outputs": [
    {
     "data": {
      "text/plain": [
       "<tf.Tensor 'embedding_1_input:0' shape=(?, 10) dtype=int32>"
      ]
     },
     "execution_count": 26,
     "metadata": {},
     "output_type": "execute_result"
    }
   ],
   "source": [
    "model.layers[0].input"
   ]
  },
  {
   "cell_type": "code",
   "execution_count": 27,
   "metadata": {},
   "outputs": [
    {
     "data": {
      "text/plain": [
       "<tf.Tensor 'embedding_1/Gather:0' shape=(?, 10, 200) dtype=float32>"
      ]
     },
     "execution_count": 27,
     "metadata": {},
     "output_type": "execute_result"
    }
   ],
   "source": [
    "model.layers[0].output"
   ]
  },
  {
   "cell_type": "code",
   "execution_count": 28,
   "metadata": {},
   "outputs": [
    {
     "data": {
      "text/plain": [
       "<tf.Tensor 'embedding_1/Gather:0' shape=(?, 10, 200) dtype=float32>"
      ]
     },
     "execution_count": 28,
     "metadata": {},
     "output_type": "execute_result"
    }
   ],
   "source": [
    "model.layers[1].input"
   ]
  },
  {
   "cell_type": "code",
   "execution_count": 29,
   "metadata": {},
   "outputs": [
    {
     "data": {
      "text/plain": [
       "<tf.Tensor 'bidirectional_1/concat_2:0' shape=(?, 128) dtype=float32>"
      ]
     },
     "execution_count": 29,
     "metadata": {},
     "output_type": "execute_result"
    }
   ],
   "source": [
    "model.layers[1].output"
   ]
  },
  {
   "cell_type": "code",
   "execution_count": 30,
   "metadata": {
    "collapsed": true
   },
   "outputs": [],
   "source": [
    "model.compile(loss='binary_crossentropy',\n",
    "              optimizer=adam,\n",
    "              metrics=['accuracy'])"
   ]
  },
  {
   "cell_type": "code",
   "execution_count": 31,
   "metadata": {},
   "outputs": [
    {
     "name": "stdout",
     "output_type": "stream",
     "text": [
      "Train on 3112 samples, validate on 1038 samples\n",
      "Epoch 1/15\n",
      "3112/3112 [==============================] - 14s - loss: 0.4969 - acc: 0.7908 - val_loss: 0.3887 - val_acc: 0.8179\n",
      "Epoch 2/15\n",
      "3112/3112 [==============================] - 10s - loss: 0.1991 - acc: 0.9393 - val_loss: 0.3604 - val_acc: 0.8439\n",
      "Epoch 3/15\n",
      "3112/3112 [==============================] - 11s - loss: 0.1129 - acc: 0.9640 - val_loss: 0.4351 - val_acc: 0.8237\n",
      "Epoch 4/15\n",
      "3112/3112 [==============================] - 11s - loss: 0.0814 - acc: 0.9753 - val_loss: 0.4645 - val_acc: 0.8401\n",
      "Epoch 5/15\n",
      "3112/3112 [==============================] - 12s - loss: 0.0676 - acc: 0.9781 - val_loss: 0.5946 - val_acc: 0.8295\n",
      "Epoch 6/15\n",
      "3112/3112 [==============================] - 14s - loss: 0.0585 - acc: 0.9817 - val_loss: 0.6512 - val_acc: 0.8179\n",
      "Epoch 7/15\n",
      "3112/3112 [==============================] - 11s - loss: 0.0556 - acc: 0.9820 - val_loss: 0.6870 - val_acc: 0.8266\n",
      "Epoch 8/15\n",
      "3112/3112 [==============================] - 11s - loss: 0.0518 - acc: 0.9826 - val_loss: 0.6569 - val_acc: 0.8353\n",
      "Epoch 9/15\n",
      "3112/3112 [==============================] - 12s - loss: 0.0482 - acc: 0.9846 - val_loss: 0.7071 - val_acc: 0.8295\n",
      "Epoch 10/15\n",
      "3112/3112 [==============================] - 12s - loss: 0.0440 - acc: 0.9843 - val_loss: 0.7508 - val_acc: 0.8276\n",
      "Epoch 11/15\n",
      "3112/3112 [==============================] - 13s - loss: 0.0423 - acc: 0.9846 - val_loss: 0.8064 - val_acc: 0.8237\n",
      "Epoch 12/15\n",
      "3112/3112 [==============================] - 14s - loss: 0.0475 - acc: 0.9830 - val_loss: 0.6920 - val_acc: 0.8237\n",
      "Epoch 13/15\n",
      "3112/3112 [==============================] - 14s - loss: 0.0391 - acc: 0.9855 - val_loss: 0.7388 - val_acc: 0.8304\n",
      "Epoch 14/15\n",
      "3112/3112 [==============================] - 13s - loss: 0.0374 - acc: 0.9859 - val_loss: 0.7731 - val_acc: 0.8362\n",
      "Epoch 15/15\n",
      "3112/3112 [==============================] - 13s - loss: 0.0345 - acc: 0.9871 - val_loss: 0.7568 - val_acc: 0.8333\n",
      "1024/1038 [============================>.] - ETA: 0sConfig:\n",
      " {'decay': 0.0, 'epochs': 15, 'embedding_size': 200, 'vocab': 1964, 'learning_rate': 0.001, 'time_steps': 10, 'drop_out': 0.2, 'LSTM_cell': 64, 'batch_size': 32}\n",
      "Test loss: 0.756796801021\n",
      "Test accuracy: 0.833333333448\n"
     ]
    }
   ],
   "source": [
    "model.fit(X_train, y_train,\n",
    "          batch_size=config['batch_size'],\n",
    "          epochs=config['epochs'],\n",
    "          validation_data=(X_test, y_test))\n",
    "loss, acc = model.evaluate(X_test, y_test,\n",
    "                            batch_size=config['batch_size'])\n",
    "\n",
    "print('Config:\\n', config)\n",
    "print('Test loss:', loss)\n",
    "print('Test accuracy:', acc)"
   ]
  },
  {
   "cell_type": "code",
   "execution_count": null,
   "metadata": {
    "collapsed": true
   },
   "outputs": [],
   "source": []
  },
  {
   "cell_type": "code",
   "execution_count": null,
   "metadata": {
    "collapsed": true
   },
   "outputs": [],
   "source": []
  }
 ],
 "metadata": {
  "kernelspec": {
   "display_name": "Python 3",
   "language": "python",
   "name": "python3"
  },
  "language_info": {
   "codemirror_mode": {
    "name": "ipython",
    "version": 3
   },
   "file_extension": ".py",
   "mimetype": "text/x-python",
   "name": "python",
   "nbconvert_exporter": "python",
   "pygments_lexer": "ipython3",
   "version": "3.5.2"
  }
 },
 "nbformat": 4,
 "nbformat_minor": 2
}
